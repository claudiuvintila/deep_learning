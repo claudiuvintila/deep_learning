{
 "cells": [
  {
   "cell_type": "code",
   "execution_count": null,
   "metadata": {},
   "outputs": [],
   "source": [
    "import keras\n",
    "from keras.models import Model, Input\n",
    "from keras.layers import Conv2D, Activation, MaxPool2D, Flatten, Dense\n",
    "from keras.layers import BatchNormalization\n",
    "from keras.datasets import mnist\n",
    "from keras.optimizers import SGD\n",
    "\n",
    "from keras.layers.advanced_activations import PReLU\n",
    "\n",
    "from keras.utils import to_categorical\n",
    "\n",
    "import numpy as np\n",
    "\n",
    "from numpy.random import seed\n",
    "seed(42)\n",
    "\n",
    "import time\n",
    "\n",
    "import matplotlib.pyplot as plt"
   ]
  },
  {
   "cell_type": "markdown",
   "metadata": {},
   "source": [
    "# Magic numbers"
   ]
  },
  {
   "cell_type": "raw",
   "metadata": {},
   "source": [
    "# In fata + Esc+M+Enter"
   ]
  },
  {
   "cell_type": "code",
   "execution_count": null,
   "metadata": {},
   "outputs": [],
   "source": [
    "nb_classes = 10\n",
    "optim = SGD()\n",
    "batch_size = 128\n",
    "epochs = 20\n",
    "pix_ox, pix_oy = (28,28)\n",
    "\n",
    "want_to_train = False"
   ]
  },
  {
   "cell_type": "markdown",
   "metadata": {},
   "source": [
    "# Load the dataset"
   ]
  },
  {
   "cell_type": "code",
   "execution_count": null,
   "metadata": {},
   "outputs": [],
   "source": [
    "print(mnist.__file__)"
   ]
  },
  {
   "cell_type": "code",
   "execution_count": null,
   "metadata": {},
   "outputs": [],
   "source": [
    "(x_train, y_train), (x_test, y_test) = mnist.load_data()"
   ]
  },
  {
   "cell_type": "markdown",
   "metadata": {},
   "source": [
    "# Inspect the dataset"
   ]
  },
  {
   "cell_type": "code",
   "execution_count": null,
   "metadata": {},
   "outputs": [],
   "source": [
    "print(\"Shape of x_train: \",x_train.shape)\n",
    "print(\"Shape of y_train: \",y_train.shape)\n",
    "print(\"Shape of x_test: \",x_test.shape)\n",
    "print(\"Shape of y_test: \",y_test.shape)"
   ]
  },
  {
   "cell_type": "markdown",
   "metadata": {},
   "source": [
    "# Reshape data to 4D tensors"
   ]
  },
  {
   "cell_type": "code",
   "execution_count": null,
   "metadata": {},
   "outputs": [],
   "source": [
    "x_train = np.reshape(x_train, (-1,pix_ox, pix_oy,1))\n",
    "x_test = np.reshape(x_test, (-1,pix_ox, pix_oy, 1))\n",
    "\n",
    "print(\"Shape of x_train: \",x_train.shape)\n",
    "print(\"Shape of x_test: \",x_test.shape)"
   ]
  },
  {
   "cell_type": "markdown",
   "metadata": {},
   "source": [
    "# Ensure float"
   ]
  },
  {
   "cell_type": "code",
   "execution_count": null,
   "metadata": {},
   "outputs": [],
   "source": [
    "x_train = x_train.astype('float32')\n",
    "x_test = x_test.astype('float32')"
   ]
  },
  {
   "cell_type": "markdown",
   "metadata": {},
   "source": [
    "# Normalize the data"
   ]
  },
  {
   "cell_type": "code",
   "execution_count": null,
   "metadata": {},
   "outputs": [],
   "source": [
    "x_train = x_train / 255.\n",
    "x_test = x_test / 255."
   ]
  },
  {
   "cell_type": "markdown",
   "metadata": {},
   "source": [
    "# One-hot encoding"
   ]
  },
  {
   "cell_type": "code",
   "execution_count": null,
   "metadata": {},
   "outputs": [],
   "source": [
    "print(y_train[544])"
   ]
  },
  {
   "cell_type": "code",
   "execution_count": null,
   "metadata": {},
   "outputs": [],
   "source": [
    "y_train_onehot = to_categorical(y_train, nb_classes)\n",
    "y_test_onehot = to_categorical(y_test, nb_classes)\n",
    "\n",
    "print(y_train_onehot[544])"
   ]
  },
  {
   "cell_type": "markdown",
   "metadata": {},
   "source": [
    "# The Model"
   ]
  },
  {
   "cell_type": "code",
   "execution_count": null,
   "metadata": {},
   "outputs": [],
   "source": [
    "def my_model(x):\n",
    "    \n",
    "    x = Conv2D(filters=32, kernel_size=(5,5), \n",
    "               strides=(1,1),padding= 'same')(x)\n",
    "    x = PReLU()(x)\n",
    "    x = MaxPool2D(pool_size=(2,2), strides=(2,2), padding='valid')(x)\n",
    "    \n",
    "    x = Conv2D(filters=64, kernel_size=(5,5), \n",
    "               strides=(1,1),padding= 'same')(x)\n",
    "    x = PReLU()(x)\n",
    "    x = MaxPool2D(pool_size=(2,2), strides=(1,1), padding='valid')(x)\n",
    "    \n",
    "    x = Conv2D(filters=128, kernel_size=(3,3), \n",
    "               strides=(1,1),padding= 'same')(x)\n",
    "    x = PReLU()(x)\n",
    "    x = MaxPool2D(pool_size=(2,2), strides=(1,1), padding='valid')(x)\n",
    "    \n",
    "    x = Flatten()(x)\n",
    "    x = Dense(50)(x)\n",
    "    x = PReLU()(x)\n",
    "    x = Dense(2)(x)\n",
    "    x = PReLU(name='ghita')(x)\n",
    "    \n",
    "    x = Dense(nb_classes, activation='softmax')(x)\n",
    "    \n",
    "    return x\n",
    "      "
   ]
  },
  {
   "cell_type": "markdown",
   "metadata": {},
   "source": [
    "# Functional API"
   ]
  },
  {
   "cell_type": "code",
   "execution_count": null,
   "metadata": {},
   "outputs": [],
   "source": [
    "inputs = Input((pix_ox, pix_oy,1))\n",
    "out = my_model(inputs)\n",
    "\n",
    "model = Model(inputs=inputs, outputs=out)\n",
    "\n",
    "model.summary()"
   ]
  },
  {
   "cell_type": "markdown",
   "metadata": {},
   "source": [
    "# Compile "
   ]
  },
  {
   "cell_type": "code",
   "execution_count": null,
   "metadata": {},
   "outputs": [],
   "source": [
    "model.compile(loss=\"categorical_crossentropy\", optimizer=optim, \n",
    "             metrics=['accuracy'])"
   ]
  },
  {
   "cell_type": "markdown",
   "metadata": {},
   "source": [
    "# Callbacks"
   ]
  },
  {
   "cell_type": "code",
   "execution_count": null,
   "metadata": {},
   "outputs": [],
   "source": [
    "class PlotLosses(keras.callbacks.Callback):\n",
    "    def on_train_begin(self, logs={}):\n",
    "        self.i = 0\n",
    "        self.x = []\n",
    "        self.logs = []\n",
    "        self.losses = []\n",
    "        self.test_losses = []\n",
    "        \n",
    "        self.plot = plt.figure()\n",
    "        \n",
    "    def on_epoch_end(self, epoch, logs={}):\n",
    "        self.x.append(self.i)\n",
    "        self.logs.append(logs)\n",
    "        self.losses.append(logs.get('loss'))\n",
    "        self.test_losses.append(logs.get('val_loss'))\n",
    "        \n",
    "        plt.plot(self.x, self.losses, label='train')\n",
    "        plt.plot(self.x, self.test_losses, label='test')\n",
    "        plt.show()\n",
    "        \n",
    "        self.i += 1\n",
    "losses_train = PlotLosses()"
   ]
  },
  {
   "cell_type": "markdown",
   "metadata": {},
   "source": [
    "# Train"
   ]
  },
  {
   "cell_type": "code",
   "execution_count": null,
   "metadata": {},
   "outputs": [],
   "source": [
    "if(want_to_train):\n",
    "    start_time = time.time()\n",
    "    model.fit(x_train, y_train_onehot,\n",
    "             epochs=epochs,\n",
    "             batch_size=batch_size,\n",
    "             validation_data=(x_test, y_test_onehot),\n",
    "             callbacks=[losses_train],\n",
    "             verbose=1)\n",
    "    end_time = time.time() - start_time\n",
    "\n",
    "    print(\"Training time: \",end_time)\n",
    "else:\n",
    "    from keras.models import load_model\n",
    "\n",
    "    model = load_model(\"model_conv.h5\")\n",
    "\n"
   ]
  },
  {
   "cell_type": "markdown",
   "metadata": {},
   "source": [
    "# Print test accuracy"
   ]
  },
  {
   "cell_type": "code",
   "execution_count": null,
   "metadata": {},
   "outputs": [],
   "source": [
    "score = model.evaluate(x_test, y_test_onehot)"
   ]
  },
  {
   "cell_type": "code",
   "execution_count": null,
   "metadata": {},
   "outputs": [],
   "source": [
    "print(\"accuracy: \",score[1])"
   ]
  },
  {
   "cell_type": "code",
   "execution_count": null,
   "metadata": {},
   "outputs": [],
   "source": [
    "def plot_features(feats, y_test):\n",
    "    c = ['#ff0000', '#ffff00', '#00ff00', '#00ffff', '#0000ff',\n",
    "         '#ff00ff', '#990000', '#999900', '#009900', '#009999']\n",
    "    \n",
    "    for i in range(10):\n",
    "        plt.plot(feats[y_test == i,0], \n",
    "                 feats[y_test == i,1], \n",
    "                 '.',c=c[i])\n",
    "        \n",
    "    plt.legend(['0','1','2','3','4','5','6','7','8','9'])\n",
    "    plt.show()"
   ]
  },
  {
   "cell_type": "code",
   "execution_count": null,
   "metadata": {},
   "outputs": [],
   "source": [
    "model_reduced = Model(model.input, \n",
    "                      outputs=model.get_layer('ghita').output)"
   ]
  },
  {
   "cell_type": "code",
   "execution_count": null,
   "metadata": {},
   "outputs": [],
   "source": [
    "features = model_reduced.predict(x_test)"
   ]
  },
  {
   "cell_type": "code",
   "execution_count": null,
   "metadata": {},
   "outputs": [],
   "source": [
    "plot_features(features, y_test)"
   ]
  },
  {
   "cell_type": "code",
   "execution_count": null,
   "metadata": {},
   "outputs": [],
   "source": []
  }
 ],
 "metadata": {
  "kernelspec": {
   "display_name": "Python 3",
   "language": "python",
   "name": "python3"
  },
  "language_info": {
   "codemirror_mode": {
    "name": "ipython",
    "version": 3
   },
   "file_extension": ".py",
   "mimetype": "text/x-python",
   "name": "python",
   "nbconvert_exporter": "python",
   "pygments_lexer": "ipython3",
   "version": "3.5.2"
  }
 },
 "nbformat": 4,
 "nbformat_minor": 2
}
